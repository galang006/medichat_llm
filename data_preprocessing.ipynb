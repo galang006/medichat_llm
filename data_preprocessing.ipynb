{
 "cells": [
  {
   "cell_type": "code",
   "execution_count": 1,
   "id": "a369c4ad",
   "metadata": {},
   "outputs": [],
   "source": [
    "import pandas as pd\n",
    "import json"
   ]
  },
  {
   "cell_type": "markdown",
   "id": "455e88ae",
   "metadata": {},
   "source": [
    "### HealthCareMagic-100k-en Dataset"
   ]
  },
  {
   "cell_type": "code",
   "execution_count": 2,
   "id": "274acd13",
   "metadata": {},
   "outputs": [],
   "source": [
    "hc_ds = pd.read_json(\"dataset/HealthCareMagic-100k-en.jsonl\", lines=True)"
   ]
  },
  {
   "cell_type": "code",
   "execution_count": 3,
   "id": "e4a259a9",
   "metadata": {},
   "outputs": [
    {
     "data": {
      "text/html": [
       "<div>\n",
       "<style scoped>\n",
       "    .dataframe tbody tr th:only-of-type {\n",
       "        vertical-align: middle;\n",
       "    }\n",
       "\n",
       "    .dataframe tbody tr th {\n",
       "        vertical-align: top;\n",
       "    }\n",
       "\n",
       "    .dataframe thead th {\n",
       "        text-align: right;\n",
       "    }\n",
       "</style>\n",
       "<table border=\"1\" class=\"dataframe\">\n",
       "  <thead>\n",
       "    <tr style=\"text-align: right;\">\n",
       "      <th></th>\n",
       "      <th>text</th>\n",
       "    </tr>\n",
       "  </thead>\n",
       "  <tbody>\n",
       "    <tr>\n",
       "      <th>0</th>\n",
       "      <td>&lt;human&gt;: I woke up this morning feeling the wh...</td>\n",
       "    </tr>\n",
       "  </tbody>\n",
       "</table>\n",
       "</div>"
      ],
      "text/plain": [
       "                                                text\n",
       "0  <human>: I woke up this morning feeling the wh..."
      ]
     },
     "execution_count": 3,
     "metadata": {},
     "output_type": "execute_result"
    }
   ],
   "source": [
    "hc_ds.head(1)"
   ]
  },
  {
   "cell_type": "code",
   "execution_count": 4,
   "id": "61dd25fa",
   "metadata": {},
   "outputs": [],
   "source": [
    "def parse_hc_text(row):\n",
    "    text = row[\"text\"]\n",
    "\n",
    "    try:\n",
    "        human= text.split(\"<human>:\")[1].split(\"<bot>:\")[0].strip()\n",
    "        bot= text.split(\"<bot>:\")[1].strip()\n",
    "\n",
    "        return {\n",
    "            \"instruction\" :  \"Answer the following medical question in a clear and concise way.\",\n",
    "            \"input\" : human,\n",
    "            \"output\" : bot\n",
    "        }\n",
    "    except IndexError:\n",
    "        return None"
   ]
  },
  {
   "cell_type": "code",
   "execution_count": 48,
   "id": "d03c862c",
   "metadata": {},
   "outputs": [],
   "source": [
    "hc_ds_formatted = hc_ds.apply(parse_hc_text, axis=1)"
   ]
  },
  {
   "cell_type": "code",
   "execution_count": 7,
   "id": "a698366c",
   "metadata": {},
   "outputs": [
    {
     "name": "stdout",
     "output_type": "stream",
     "text": [
      "<class 'pandas.core.series.Series'>\n",
      "RangeIndex: 112165 entries, 0 to 112164\n",
      "Series name: None\n",
      "Non-Null Count   Dtype \n",
      "--------------   ----- \n",
      "112165 non-null  object\n",
      "dtypes: object(1)\n",
      "memory usage: 876.4+ KB\n"
     ]
    }
   ],
   "source": [
    "hc_ds_formatted.info()"
   ]
  },
  {
   "cell_type": "code",
   "execution_count": 25,
   "id": "82b8b175",
   "metadata": {},
   "outputs": [],
   "source": [
    "hc_dc_formatted = [x for x in hc_ds_formatted if x is not None]"
   ]
  },
  {
   "cell_type": "code",
   "execution_count": 27,
   "id": "afca4066",
   "metadata": {},
   "outputs": [
    {
     "name": "stdout",
     "output_type": "stream",
     "text": [
      "Converted 112165 examples to instruction format.\n"
     ]
    }
   ],
   "source": [
    "with open(\"dataset/hc_instruction_format.jsonl\", \"w\", encoding=\"utf-8\") as f:\n",
    "    for item in hc_ds_formatted:\n",
    "        f.write(json.dumps(item, ensure_ascii=False) + \"\\n\")\n",
    "\n",
    "print(f\"Converted {len(hc_ds_formatted)} examples to instruction format.\")"
   ]
  },
  {
   "cell_type": "markdown",
   "id": "adbf9c80",
   "metadata": {},
   "source": [
    "### medquad Dataset"
   ]
  },
  {
   "cell_type": "code",
   "execution_count": 9,
   "id": "9fd3c9d0",
   "metadata": {},
   "outputs": [],
   "source": [
    "mq_ds = pd.read_csv(\"dataset\\medquad.csv\")"
   ]
  },
  {
   "cell_type": "code",
   "execution_count": 11,
   "id": "0677ad0e",
   "metadata": {},
   "outputs": [],
   "source": [
    "def parse_mq_text(row):\n",
    "    try:\n",
    "        human = row[\"question\"]\n",
    "        bot = row[\"answer\"]\n",
    "\n",
    "        return {\n",
    "            \"instruction\" :  \"Answer the following medical question in a clear and concise way.\",\n",
    "            \"input\" : human,\n",
    "            \"output\" : bot\n",
    "        }\n",
    "    except IndexError:\n",
    "        None"
   ]
  },
  {
   "cell_type": "code",
   "execution_count": 46,
   "id": "4d7cbb6b",
   "metadata": {},
   "outputs": [],
   "source": [
    "mq_ds_formatted = mq_ds.apply(parse_mq_text, axis=1)"
   ]
  },
  {
   "cell_type": "code",
   "execution_count": 40,
   "id": "87a947ae",
   "metadata": {},
   "outputs": [],
   "source": [
    "mq_ds_formatted = [x for x in mq_ds_formatted if x is not None]"
   ]
  },
  {
   "cell_type": "code",
   "execution_count": 42,
   "id": "dfe89bc9",
   "metadata": {},
   "outputs": [
    {
     "name": "stdout",
     "output_type": "stream",
     "text": [
      "Converted 16412 examples to instruction format.\n"
     ]
    }
   ],
   "source": [
    "with open(\"dataset/mq_instruction_format.jsonl\", \"w\", encoding=\"utf-8\") as f:\n",
    "    for item in mq_ds_formatted:\n",
    "        f.write(json.dumps(item, ensure_ascii=False) + \"\\n\")\n",
    "\n",
    "print(f\"Converted {len(mq_ds_formatted)} examples to instruction format.\")"
   ]
  },
  {
   "cell_type": "markdown",
   "id": "42b5f614",
   "metadata": {},
   "source": [
    "### Combine Dataset"
   ]
  },
  {
   "cell_type": "code",
   "execution_count": 56,
   "id": "b5134717",
   "metadata": {},
   "outputs": [],
   "source": [
    "combined_df = pd.concat([hc_ds_formatted, mq_ds_formatted], ignore_index=True)"
   ]
  },
  {
   "cell_type": "code",
   "execution_count": 61,
   "id": "707fd508",
   "metadata": {},
   "outputs": [
    {
     "name": "stdout",
     "output_type": "stream",
     "text": [
      "<class 'pandas.core.series.Series'>\n",
      "RangeIndex: 128577 entries, 0 to 128576\n",
      "Series name: None\n",
      "Non-Null Count   Dtype \n",
      "--------------   ----- \n",
      "128577 non-null  object\n",
      "dtypes: object(1)\n",
      "memory usage: 1004.6+ KB\n"
     ]
    }
   ],
   "source": [
    "combined_df.info()"
   ]
  },
  {
   "cell_type": "code",
   "execution_count": null,
   "id": "3f5bfac2",
   "metadata": {},
   "outputs": [],
   "source": [
    "import random\n",
    "\n",
    "random.shuffle(combined_df)"
   ]
  },
  {
   "cell_type": "code",
   "execution_count": 60,
   "id": "4a4888e5",
   "metadata": {},
   "outputs": [],
   "source": [
    "with open(\"dataset/medical_qa_combined_shuffled.jsonl\", \"w\", encoding=\"utf-8\") as f:\n",
    "    for item in combined_df:\n",
    "        f.write(json.dumps(item) + \"\\n\")"
   ]
  }
 ],
 "metadata": {
  "kernelspec": {
   "display_name": "Python 3",
   "language": "python",
   "name": "python3"
  },
  "language_info": {
   "codemirror_mode": {
    "name": "ipython",
    "version": 3
   },
   "file_extension": ".py",
   "mimetype": "text/x-python",
   "name": "python",
   "nbconvert_exporter": "python",
   "pygments_lexer": "ipython3",
   "version": "3.11.4"
  }
 },
 "nbformat": 4,
 "nbformat_minor": 5
}
